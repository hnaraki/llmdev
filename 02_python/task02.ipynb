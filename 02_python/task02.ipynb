{
 "cells": [
  {
   "cell_type": "markdown",
   "id": "fd93553b",
   "metadata": {},
   "source": [
    "# 課題：料込価格を計算しよう\n",
    "task02\n"
   ]
  },
  {
   "cell_type": "markdown",
   "id": "17f15cf7",
   "metadata": {},
   "source": [
    "## 仕様\n",
    "入力された税抜価格をもとに、消費税込の価格と送料を合計した「送料込価格」を計算し、結果を表示するソースコードを作成してください。\n",
    "\n",
    "- 税込価格が2000円以上の場合は送料無料、2000円未満の場合は350円とします。\n",
    "- 消費税率は10%です。\n",
    "- 税抜価格の入力には input() 関数を使用してください。\n",
    "- 結果の表示にはf文字列を使用してください。"
   ]
  },
  {
   "cell_type": "code",
   "execution_count": 3,
   "id": "ae49544a",
   "metadata": {},
   "outputs": [
    {
     "name": "stdout",
     "output_type": "stream",
     "text": [
      "元金を入力してください:\n",
      "送料は350円です\n",
      "送料込税込価格は2000円です\n"
     ]
    }
   ],
   "source": [
    "tax_rate = 0.1  # 消費税率10%\n",
    "shipping_fee = 350  # 送料350円\n",
    "\n",
    "print(\"元金を入力してください:\")\n",
    "price = int(input())\n",
    "\n",
    "if price >= 2000:\n",
    "    shipping_fee = 0\n",
    "    print(\"送料は無料です\")\n",
    "else:\n",
    "    print(f\"送料は{shipping_fee}円です\")\n",
    "\n",
    "total_price = price * ( 1.0 + tax_rate ) + shipping_fee\n",
    "\n",
    "print(f\"送料込税込価格は{total_price:.0f}円です\")"
   ]
  }
 ],
 "metadata": {
  "kernelspec": {
   "display_name": ".venv",
   "language": "python",
   "name": "python3"
  },
  "language_info": {
   "codemirror_mode": {
    "name": "ipython",
    "version": 3
   },
   "file_extension": ".py",
   "mimetype": "text/x-python",
   "name": "python",
   "nbconvert_exporter": "python",
   "pygments_lexer": "ipython3",
   "version": "3.12.11"
  }
 },
 "nbformat": 4,
 "nbformat_minor": 5
}
