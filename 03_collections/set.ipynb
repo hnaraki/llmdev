{
 "cells": [
  {
   "cell_type": "markdown",
   "id": "9bdcf211",
   "metadata": {},
   "source": [
    "Lesson 3\n",
    "# データ構造とファイル操作"
   ]
  },
  {
   "cell_type": "markdown",
   "id": "8ac285ae",
   "metadata": {},
   "source": [
    "Chapter 7\n",
    "## セット（set）"
   ]
  },
  {
   "cell_type": "code",
   "execution_count": null,
   "id": "2b63b6be",
   "metadata": {},
   "outputs": [],
   "source": [
    "# 数値を格納したセット\n",
    "numbers = {1, 2, 3, 4, 5}\n",
    "print(numbers)  # {1, 2, 3, 4, 5}\n",
    "\n",
    "# 異なるデータ型の値を格納したセット\n",
    "mixed_set = {\"apple\", 42, (1, 2, 3)}\n",
    "print(mixed_set)  # {'apple', 42, (1, 2, 3)}\n",
    "\n",
    "# 空のセット（空の辞書と区別するために set() を使用）\n",
    "empty_set = set()\n",
    "print(empty_set)  # set()"
   ]
  },
  {
   "cell_type": "code",
   "execution_count": 1,
   "id": "d49d8248",
   "metadata": {},
   "outputs": [
    {
     "name": "stdout",
     "output_type": "stream",
     "text": [
      "{1, 2, 3}\n",
      "{'h', 'e', 'o', 'l'}\n"
     ]
    }
   ],
   "source": [
    "# リストからセットを作成\n",
    "numbers_list = [1, 2, 3, 2, 1]\n",
    "unique_numbers = set(numbers_list)\n",
    "print(unique_numbers)  # {1, 2, 3}\n",
    "\n",
    "# 文字列からセットを作成\n",
    "letters = set(\"hello\")\n",
    "print(letters)  # {'h', 'e', 'l', 'o'}"
   ]
  },
  {
   "cell_type": "markdown",
   "id": "d1533a4b",
   "metadata": {},
   "source": [
    "Chapter 7.2\n",
    "## セットの基本操作"
   ]
  },
  {
   "cell_type": "code",
   "execution_count": 2,
   "id": "177562e7",
   "metadata": {},
   "outputs": [
    {
     "name": "stdout",
     "output_type": "stream",
     "text": [
      "{'apple', 'banana', 'cherry'}\n",
      "{'apple', 'banana', 'cherry'}\n"
     ]
    }
   ],
   "source": [
    "fruits = {\"apple\", \"banana\"}\n",
    "fruits.add(\"cherry\")\n",
    "print(fruits)  # {'apple', 'banana', 'cherry'}\n",
    "\n",
    "# すでに存在する要素を追加してもセットには影響なし\n",
    "fruits.add(\"apple\")\n",
    "print(fruits)  # {'apple', 'banana', 'cherry'}"
   ]
  },
  {
   "cell_type": "code",
   "execution_count": 4,
   "id": "b0a3e379",
   "metadata": {},
   "outputs": [
    {
     "name": "stdout",
     "output_type": "stream",
     "text": [
      "{'apple', 'cherry'}\n",
      "{'apple', 'cherry'}\n",
      "{'cherry'}\n",
      "apple\n",
      "set()\n"
     ]
    }
   ],
   "source": [
    "fruits = {\"apple\", \"banana\", \"cherry\"}\n",
    "\n",
    "# 特定の要素を削除\n",
    "fruits.remove(\"banana\")\n",
    "print(fruits)  # {'apple', 'cherry'}\n",
    "\n",
    "# 存在しない要素の削除\n",
    "fruits.discard(\"orange\")  # エラーにならない\n",
    "print(fruits)  # {'apple', 'cherry'}\n",
    "\n",
    "# 任意の要素を削除\n",
    "removed_item = fruits.pop()\n",
    "print(fruits)  # {'cherry'}（'apple' が削除されたと仮定）\n",
    "print(removed_item)  # apple\n",
    "\n",
    "# セットを空にする\n",
    "fruits.clear()\n",
    "print(fruits)  # set()"
   ]
  },
  {
   "cell_type": "code",
   "execution_count": 5,
   "id": "1fbb702b",
   "metadata": {},
   "outputs": [
    {
     "name": "stdout",
     "output_type": "stream",
     "text": [
      "{1, 2, 3, 4, 5, 6}\n",
      "{3, 4}\n",
      "{1, 2}\n",
      "{1, 2, 5, 6}\n"
     ]
    }
   ],
   "source": [
    "a = {1, 2, 3, 4}\n",
    "b = {3, 4, 5, 6}\n",
    "\n",
    "# 和集合\n",
    "print(a | b)  # {1, 2, 3, 4, 5, 6}\n",
    "\n",
    "# 積集合\n",
    "print(a & b)  # {3, 4}\n",
    "\n",
    "# 差集合\n",
    "print(a - b)  # {1, 2}\n",
    "\n",
    "# 対称差集合\n",
    "print(a ^ b)  # {1, 2, 5, 6}"
   ]
  },
  {
   "cell_type": "code",
   "execution_count": 6,
   "id": "0464a408",
   "metadata": {},
   "outputs": [
    {
     "name": "stdout",
     "output_type": "stream",
     "text": [
      "True\n",
      "False\n"
     ]
    }
   ],
   "source": [
    "fruits = {\"apple\", \"banana\", \"cherry\"}\n",
    "\n",
    "# \"apple\" がセットにあるか確認\n",
    "print(\"apple\" in fruits)  # True\n",
    "\n",
    "# \"grape\" がセットにあるか確認\n",
    "print(\"grape\" in fruits)  # False"
   ]
  },
  {
   "cell_type": "markdown",
   "id": "8dace765",
   "metadata": {},
   "source": [
    "Chapter 8\n",
    "## ファイルの読み書き"
   ]
  },
  {
   "cell_type": "code",
   "execution_count": 12,
   "id": "bcff462f",
   "metadata": {},
   "outputs": [],
   "source": [
    "with open(\"/Users/hnaraki/work/techacademy/llmdev/README.md\", \"r\") as file:\n",
    "    pass"
   ]
  },
  {
   "cell_type": "code",
   "execution_count": 13,
   "id": "ed0e9d5b",
   "metadata": {},
   "outputs": [
    {
     "name": "stdout",
     "output_type": "stream",
     "text": [
      "# LLMアプリ開発コース\n",
      "\n",
      "[LLMアプリ開発コース](https://techacademy.jp/my/llm-dev/llm-dev-2025)\n"
     ]
    }
   ],
   "source": [
    "with open(\"../README.md\", \"r\", encoding=\"utf-8\") as file:\n",
    "    content = file.read()\n",
    "    print(content)"
   ]
  },
  {
   "cell_type": "code",
   "execution_count": 8,
   "id": "9733cfd9",
   "metadata": {},
   "outputs": [
    {
     "name": "stdout",
     "output_type": "stream",
     "text": [
      "ファイルが見つかりません。\n"
     ]
    }
   ],
   "source": [
    "try:\n",
    "    with open(\"non_existent_file.txt\", \"r\") as file:\n",
    "        data = file.read()\n",
    "except FileNotFoundError:\n",
    "    print(\"ファイルが見つかりません。\")"
   ]
  }
 ],
 "metadata": {
  "kernelspec": {
   "display_name": ".venv",
   "language": "python",
   "name": "python3"
  },
  "language_info": {
   "codemirror_mode": {
    "name": "ipython",
    "version": 3
   },
   "file_extension": ".py",
   "mimetype": "text/x-python",
   "name": "python",
   "nbconvert_exporter": "python",
   "pygments_lexer": "ipython3",
   "version": "3.12.11"
  }
 },
 "nbformat": 4,
 "nbformat_minor": 5
}
