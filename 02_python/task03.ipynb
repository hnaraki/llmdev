{
 "cells": [
  {
   "cell_type": "markdown",
   "id": "257932af",
   "metadata": {},
   "source": [
    "# 課題: 10年後の金額を複利で予測するプログラムを作成しよう\n",
    "lesson 2"
   ]
  },
  {
   "cell_type": "markdown",
   "id": "a322189f",
   "metadata": {},
   "source": [
    "## 仕様\n",
    "入力された元金と金利をもとに、10年後の金額を複利で予測するプログラムを作成しましょう。次の条件に従って計算を行ってください。\n",
    "\n",
    "- ユーザーが元金（初期投資額）を入力します。入力には input() 関数を使用してください。\n",
    "- ユーザーが年利（パーセンテージ）を入力します。入力には input() 関数を使用してください。\n",
    "- 繰り返し構文を使用して、10年間の金額を計算します。"
   ]
  },
  {
   "cell_type": "code",
   "execution_count": null,
   "id": "e84a18a5",
   "metadata": {},
   "outputs": [
    {
     "name": "stdout",
     "output_type": "stream",
     "text": [
      "元金を入力してください:\n",
      "年利を入力してください:\n",
      "0年後: 1050.0:.2f\n",
      "1年後: 1102.5:.2f\n",
      "2年後: 1157.625:.2f\n",
      "3年後: 1215.5062500000001:.2f\n",
      "4年後: 1276.2815625000003:.2f\n",
      "5年後: 1340.0956406250004:.2f\n",
      "6年後: 1407.1004226562504:.2f\n",
      "7年後: 1477.455443789063:.2f\n",
      "8年後: 1551.3282159785163:.2f\n",
      "9年後: 1628.8946267774422:.2f\n",
      "10年後: 1710.3393581163143:.2f\n"
     ]
    }
   ],
   "source": [
    "print(\"元金を入力してください:\")\n",
    "capital = int(input())\n",
    "\n",
    "print(\"年利を入力してください:\")\n",
    "annual_interest_rate = int(input())\n",
    "\n",
    "price = capital\n",
    "for i in range(11):\n",
    "    price = price * (1 + (annual_interest_rate / 100))\n",
    "    print(f\"{i}年後: {price:.2f}\")\n"
   ]
  }
 ],
 "metadata": {
  "kernelspec": {
   "display_name": ".venv",
   "language": "python",
   "name": "python3"
  },
  "language_info": {
   "codemirror_mode": {
    "name": "ipython",
    "version": 3
   },
   "file_extension": ".py",
   "mimetype": "text/x-python",
   "name": "python",
   "nbconvert_exporter": "python",
   "pygments_lexer": "ipython3",
   "version": "3.12.11"
  }
 },
 "nbformat": 4,
 "nbformat_minor": 5
}
