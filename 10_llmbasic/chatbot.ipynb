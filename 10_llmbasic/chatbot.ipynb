{
 "cells": [
  {
   "cell_type": "markdown",
   "id": "2bf33cb1",
   "metadata": {},
   "source": [
    "Lesson 10\n",
    "# チャットボットのコード"
   ]
  },
  {
   "cell_type": "code",
   "execution_count": 1,
   "id": "4bfaeae6",
   "metadata": {},
   "outputs": [],
   "source": [
    "# 必要なモジュールをインポート\n",
    "import os\n",
    "from dotenv import load_dotenv\n",
    "from openai import OpenAI\n",
    "from pprint import pprint\n",
    "\n",
    "# 環境変数の取得\n",
    "load_dotenv(\"../.env\")\n",
    "\n",
    "# OpenAI APIクライアントを生成\n",
    "client = OpenAI(api_key=os.environ['API_KEY'])\n",
    "\n",
    "# モデル名\n",
    "MODEL_NAME = \"gpt-4o-mini\""
   ]
  },
  {
   "cell_type": "code",
   "execution_count": 2,
   "id": "389bb6fc",
   "metadata": {},
   "outputs": [
    {
     "name": "stdout",
     "output_type": "stream",
     "text": [
      "質問:質問:こんにちは！\n",
      "こんにちは！どうかされましたか？何かお手伝いできることがあれば教えてください。質問:質問:初心者にオススメのプログラミング言語を3つ教えて\n",
      "初心者にオススメのプログラミング言語を3つご紹介します。\n",
      "\n",
      "1. **Python**:\n",
      "   - 読みやすい文法で、初心者でも理解しやすい。\n",
      "   - データ分析、機械学習、ウェブ開発など幅広い分野で使用されている。\n",
      "   - 豊富なライブラリとコミュニティがあり、学習リソースも充実。\n",
      "\n",
      "2. **JavaScript**:\n",
      "   - ウェブ開発に欠かせない言語で、フロントエンドとバックエンド両方で使える。\n",
      "   - インタラクティブなウェブサイトやアプリを作成するのに最適。\n",
      "   - ブラウザ上で動作し、すぐに結果を確認できるため、実験しやすい。\n",
      "\n",
      "3. **Ruby**:\n",
      "   - シンプルで直感的な文法が特徴。\n",
      "   - ウェブアプリケーション開発に適したフレームワーク（Ruby on Rails）が人気。\n",
      "   - 大きなコミュニティがあり、サポートや学習リソースも豊富。\n",
      "\n",
      "これらの言語はそれぞれ異なる用途がありますが、学びやすさと活用の幅広さから初心者に特におすすめです。興味のある分野に基づいて選んでみてください！質問:質問:1つ目のプログラミング言語の名前は？\n",
      "1つ目のプログラミング言語は「Python」です。初心者にとても人気があり、読みやすい文法と幅広い用途が魅力です。\n",
      "---ご利用ありがとうございました！---\n"
     ]
    }
   ],
   "source": [
    "# メッセージを格納するリスト\n",
    "messages=[]\n",
    "\n",
    "while(True):\n",
    "    # ユーザーからの質問を受付\n",
    "    message = input(\"メッセージを入力:\")\n",
    "    # 質問が入力されなければ終了\n",
    "    if message.strip()==\"\":\n",
    "        break\n",
    "    print(f\"質問:{message}\")\n",
    "\n",
    "    # メッセージにユーザーからの質問を追加\n",
    "    messages.append({\"role\": \"user\", \"content\": message.strip()})\n",
    "    # やりとりが8を超えたら古いメッセージから削除\n",
    "    if len(messages) > 8:\n",
    "        del_message = messages.pop(0)\n",
    "\n",
    "    # APIへリクエスト\n",
    "    stream = client.chat.completions.create(\n",
    "        model=MODEL_NAME,\n",
    "        messages=messages,\n",
    "        stream=True,\n",
    "    )\n",
    "\n",
    "    # 言語モデルからの回答を表示\n",
    "    response_message = \"\"\n",
    "    for chunk in stream:\n",
    "        if chunk.choices:\n",
    "            next = chunk.choices[0].delta.content\n",
    "            if next is not None:\n",
    "                response_message += next\n",
    "                print(next, end='', flush=True)\n",
    "\n",
    "    # メッセージに言語モデルからの回答を追加\n",
    "    messages.append({\"role\": \"assistant\", \"content\": response_message})\n",
    "\n",
    "print(\"\\n---ご利用ありがとうございました！---\")"
   ]
  }
 ],
 "metadata": {
  "kernelspec": {
   "display_name": ".venv",
   "language": "python",
   "name": "python3"
  },
  "language_info": {
   "codemirror_mode": {
    "name": "ipython",
    "version": 3
   },
   "file_extension": ".py",
   "mimetype": "text/x-python",
   "name": "python",
   "nbconvert_exporter": "python",
   "pygments_lexer": "ipython3",
   "version": "3.12.11"
  }
 },
 "nbformat": 4,
 "nbformat_minor": 5
}
