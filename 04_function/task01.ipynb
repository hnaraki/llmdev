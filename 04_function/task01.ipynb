{
 "cells": [
  {
   "cell_type": "markdown",
   "id": "1c92e7ba",
   "metadata": {},
   "source": [
    "# 課題： 課題ユーザー名のバリデーション（検証）"
   ]
  },
  {
   "cell_type": "markdown",
   "id": "bf7c438e",
   "metadata": {},
   "source": [
    "### 関数の仕様：\n",
    "\n",
    "- 文字列を受け取り、バリデーションの結果をブール値で返す関数を作成してください。\n",
    "- バリデーションのルールは以下です。\n",
    "    - ユーザー名は5文字以上15文字以内。条件を満たさない場合は エラー: ユーザー名は5文字以上15文字以内で入力してください と表示して False を返してください。\n",
    "    - ユーザー名に空白は使えない。含まれている場合は エラー: ユーザー名に空白を含めることはできません と表示して False を返してください。\n",
    "    - ユーザー名は英数字（アルファベットと数字）のみ使用可能。それ以外の文字が含まれている場合は エラー: ユーザー名は英数字のみ使用できます と表示して False を返してください。\n",
    "- すべての条件を満たす場合は、Trueを返す（※成功メッセージは表示しない）。\n",
    "\n",
    "### 呼び出し側の仕様：\n",
    "\n",
    "- ユーザーにユーザー名を入力させ、そのユーザー名が適切かを、上記のバリデーション関数で判定させてください。\n",
    "バリデーションの結果、条件を満たしていたら ユーザー名は有効です と表示、そうでなければ 不正なユーザー名です と表示してください。"
   ]
  },
  {
   "cell_type": "code",
   "execution_count": null,
   "id": "4bfe51fe",
   "metadata": {},
   "outputs": [
    {
     "ename": "AttributeError",
     "evalue": "'str' object has no attribute 'has_space'",
     "output_type": "error",
     "traceback": [
      "\u001b[31m---------------------------------------------------------------------------\u001b[39m",
      "\u001b[31mAttributeError\u001b[39m                            Traceback (most recent call last)",
      "\u001b[36mCell\u001b[39m\u001b[36m \u001b[39m\u001b[32mIn[5]\u001b[39m\u001b[32m, line 15\u001b[39m\n\u001b[32m     12\u001b[39m         \u001b[38;5;28;01mreturn\u001b[39;00m \u001b[38;5;28;01mTrue\u001b[39;00m\n\u001b[32m     14\u001b[39m username = \u001b[38;5;28minput\u001b[39m(\u001b[33m\"\u001b[39m\u001b[33mユーザー名を入力してください:\u001b[39m\u001b[33m\"\u001b[39m)\n\u001b[32m---> \u001b[39m\u001b[32m15\u001b[39m \u001b[38;5;28;01mif\u001b[39;00m \u001b[43musername_validator\u001b[49m\u001b[43m(\u001b[49m\u001b[43musername\u001b[49m\u001b[43m)\u001b[49m:\n\u001b[32m     16\u001b[39m     \u001b[38;5;28mprint\u001b[39m(\u001b[33m\"\u001b[39m\u001b[33mユーザー名は有効です\u001b[39m\u001b[33m\"\u001b[39m)\n\u001b[32m     17\u001b[39m \u001b[38;5;28;01melse\u001b[39;00m:\n",
      "\u001b[36mCell\u001b[39m\u001b[36m \u001b[39m\u001b[32mIn[5]\u001b[39m\u001b[32m, line 5\u001b[39m, in \u001b[36musername_validator\u001b[39m\u001b[34m(name)\u001b[39m\n\u001b[32m      3\u001b[39m     \u001b[38;5;28mprint\u001b[39m(\u001b[33m\"\u001b[39m\u001b[33mエラー: ユーザー名は5文字以上15文字以内で入力してください\u001b[39m\u001b[33m\"\u001b[39m)\n\u001b[32m      4\u001b[39m     \u001b[38;5;28;01mreturn\u001b[39;00m \u001b[38;5;28;01mFalse\u001b[39;00m\n\u001b[32m----> \u001b[39m\u001b[32m5\u001b[39m \u001b[38;5;28;01melif\u001b[39;00m \u001b[43mname\u001b[49m\u001b[43m.\u001b[49m\u001b[43mhas_space\u001b[49m():\n\u001b[32m      6\u001b[39m     \u001b[38;5;28mprint\u001b[39m(\u001b[33m\"\u001b[39m\u001b[33mエラー: ユーザー名にスペースを含めることはできません\u001b[39m\u001b[33m\"\u001b[39m)\n\u001b[32m      7\u001b[39m     \u001b[38;5;28;01mreturn\u001b[39;00m \u001b[38;5;28;01mFalse\u001b[39;00m\n",
      "\u001b[31mAttributeError\u001b[39m: 'str' object has no attribute 'has_space'"
     ]
    }
   ],
   "source": [
    "def username_validator(name):\n",
    "    if len(name) < 5 or len(name) > 15:\n",
    "        print(\"エラー: ユーザー名は5文字以上15文字以内で入力してください\")\n",
    "        return False\n",
    "    elif \" \" in name:\n",
    "        print(\"エラー: ユーザー名にスペースを含めることはできません\")\n",
    "        return False\n",
    "    elif not name.isalnum():\n",
    "        print(\"エラー: ユーザー名は英数字のみで構成されている必要があります\")\n",
    "        return False\n",
    "    else:\n",
    "        return True\n",
    "\n",
    "username = input(\"ユーザー名を入力してください:\")\n",
    "if username_validator(username):\n",
    "    print(\"ユーザー名は有効です\")\n",
    "else:\n",
    "    print(\"不正なユーザー名です\")\n",
    "    "
   ]
  }
 ],
 "metadata": {
  "kernelspec": {
   "display_name": ".venv",
   "language": "python",
   "name": "python3"
  },
  "language_info": {
   "codemirror_mode": {
    "name": "ipython",
    "version": 3
   },
   "file_extension": ".py",
   "mimetype": "text/x-python",
   "name": "python",
   "nbconvert_exporter": "python",
   "pygments_lexer": "ipython3",
   "version": "3.12.11"
  }
 },
 "nbformat": 4,
 "nbformat_minor": 5
}
