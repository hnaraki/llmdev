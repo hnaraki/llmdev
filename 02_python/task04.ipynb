{
 "cells": [
  {
   "cell_type": "markdown",
   "id": "fe06cee0",
   "metadata": {},
   "source": [
    "# 課題:数値計算の例外処理を行おう"
   ]
  },
  {
   "cell_type": "markdown",
   "id": "5a6355cb",
   "metadata": {},
   "source": [
    "## 仕様\n",
    "- ユーザーに2つの数値を入力させ、それらを割り算するプログラムを作成してください。\n",
    "- 数値の代わりに文字を入力した場合は「エラー: 数値を入力してください」と表示します。\n",
    "- 割る数が0の場合は「エラー: 0で割ることはできません」と表示します。\n",
    "- 計算が正常に完了した場合、結果を表示してください。"
   ]
  },
  {
   "cell_type": "code",
   "execution_count": 5,
   "id": "ae59a17b",
   "metadata": {},
   "outputs": [
    {
     "name": "stdout",
     "output_type": "stream",
     "text": [
      "計算結果: 10.0\n"
     ]
    }
   ],
   "source": [
    "try:\n",
    "    num1 = int(input(\"1つ目の数を入力してください: \"))\n",
    "    num2 = int(input(\"2つ目の数を入力してください: \"))\n",
    "    result = num1 / num2\n",
    "except ZeroDivisionError:\n",
    "    print(\"エラー: 0 で割ることはできません\")\n",
    "except ValueError:\n",
    "    print(\"エラー: 整数を入力してください\")\n",
    "else:\n",
    "    print(f\"計算結果: {result:.1f}\")"
   ]
  }
 ],
 "metadata": {
  "kernelspec": {
   "display_name": ".venv",
   "language": "python",
   "name": "python3"
  },
  "language_info": {
   "codemirror_mode": {
    "name": "ipython",
    "version": 3
   },
   "file_extension": ".py",
   "mimetype": "text/x-python",
   "name": "python",
   "nbconvert_exporter": "python",
   "pygments_lexer": "ipython3",
   "version": "3.12.11"
  }
 },
 "nbformat": 4,
 "nbformat_minor": 5
}
