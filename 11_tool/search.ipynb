{
 "cells": [
  {
   "cell_type": "markdown",
   "id": "ee67833e",
   "metadata": {},
   "source": [
    "Lesson 11\n",
    "# OpenAIツール呼出：Web検索などとの連動"
   ]
  },
  {
   "cell_type": "markdown",
   "id": "c9df2c8d",
   "metadata": {},
   "source": [
    "Chapter 5"
   ]
  },
  {
   "cell_type": "code",
   "execution_count": 1,
   "id": "aba98078",
   "metadata": {},
   "outputs": [],
   "source": [
    "# 必要なモジュールをインポート\n",
    "import os\n",
    "import json\n",
    "from dotenv import load_dotenv\n",
    "from openai import OpenAI\n",
    "from openai.types.chat import ChatCompletionToolParam\n",
    "from tavily import TavilyClient\n",
    "\n",
    "# 環境変数の取得\n",
    "load_dotenv(\"../.env\")\n",
    "\n",
    "# OpenAI APIクライアントを生成\n",
    "client = OpenAI(api_key=os.environ['API_KEY'])\n",
    "\n",
    "# tavily検索用APIキーの取得\n",
    "TAVILY_API_KEY = os.environ['TAVILY_API_KEY']\n",
    "\n",
    "# モデル名\n",
    "MODEL_NAME = \"gpt-4o-mini\""
   ]
  },
  {
   "cell_type": "code",
   "execution_count": 2,
   "id": "aefab41c",
   "metadata": {},
   "outputs": [],
   "source": [
    "# 検索結果を返す関数の作成\n",
    "def get_search_result(question):\n",
    "    client = TavilyClient(api_key=TAVILY_API_KEY)\n",
    "    response = client.search(question)\n",
    "    return json.dumps({\"result\": response[\"results\"]})"
   ]
  },
  {
   "cell_type": "code",
   "execution_count": 3,
   "id": "a3705189",
   "metadata": {},
   "outputs": [
    {
     "data": {
      "text/plain": [
       "{'result': [{'url': 'https://ekitan.com/event/station-2590',\n",
       "   'title': '東京駅周辺のイベント - 駅探',\n",
       "   'content': '東京駅周辺のイベント - 駅探 駅探 | ekitan *   乗換案内 *   飛行機時刻表 *   飛行機時刻表(国内線) *   飛行機時刻表(国際線)NEW *   高速・夜行バス時刻表 NEW 1.   駅探 3.   東京駅周辺のイベント *   条件 - [x] 無料イベント  - [x] 駐車場あり  - [x] 屋内    *   Image 3: 環境省主催 教職員等環境教育・学習推進リーダー養成研修 実践編 対面研修 東京会場 #### 環境省主催 教職員等環境教育・学習推進リーダー養成研修 実践編 対面研修 東京会場 学校教育×SDGs、環境教育・ESD実践 期間 2025年8月18日(月) 会場 ビジョンセンター東京駅前 * 東京都 中央区 * 東京駅／日本橋駅(東京)／京橋駅(東京)駅 1. *   Image 8: 朝ガツ 東京10社巡り開運ウォーキング-城南4社で運気アップ- #### 朝ガツ 東京10社巡り開運ウォーキング-城南4社で運気アップ- 東京十社巡りウォーキングで開運祈願 期間 2025年5月17日(土)このイベントは終了しました 会場 東京駅丸の内駅前広場（集合） * 東京都 千代田区 * 東京駅／二重橋前駅／大手町駅(東京)駅 *   Image 12 東京メトロ日比谷線 八丁堀駅 徒歩4分 36.6万円(管理費等：14,000円) 2LDK / 74.9m 2 / 12階 / 築18年 Image 13 東京メトロ有楽町線 銀座一丁目駅 徒歩4分 22.5万円(管理費等：13,000円) 1LDK / 49.34m 2 / 13階 / 築21年 Image 14 JR山手線 神田駅 徒歩3分 20.0万円(管理費等：20,000円) 1LDK / 40.58m 2 / 4階 / 築1年 東京駅周辺の物件一覧を見る   Copyright©2025 駅探.',\n",
       "   'score': 0.7938904,\n",
       "   'raw_content': None},\n",
       "  {'url': 'https://www.walkerplus.com/event_list/ar0313/sc309880d/',\n",
       "   'title': '東京駅(東京都)周辺のイベント - ウォーカープラス',\n",
       "   'content': '今日 明日 今週末 * エリアを選択 * 目的から探す エリア :   * 東京都 * 千代田区 * 中央区 * 港区 * 新宿区 * 文京区 * 台東区 * 墨田区 * 江東区 * 品川区 * 目黒区 * 大田区 * 世田谷区 * 渋谷区 2025年5月29日(木)～9月7日(日) * 日本橋高島屋S.C. BBQ BEER GARDEN(バーベキュービアガーデン) 2025年4月16日(水)～11月5日(水) 日本橋駅(東京都), 京橋駅(東京都), 茅場町駅(東京都), 宝町駅(東京都), 東京駅(東京都) 日本橋高島屋S.C.本館 * 丸ノ内ホテル アーバンビアテラス2025 2025年6月6日(金)～9月30日(火) 東京都 東京駅(東京都), 大手町駅(東京都), 二重橋前駅(東京都), 日本橋駅(東京都), 三越前駅(東京都) 丸ノ内ホテル 2025年6月1日(日)～8月31日(日) 東京都 東京駅(東京都), 二重橋前駅(東京都), 京橋駅(東京都), 大手町駅(東京都), 有楽町駅(東京都) 2025年8月8日(金)～2026年3月31日(火) 東京都 日比谷駅(東京都), 有楽町駅(東京都), 東京駅(東京都), 京橋駅(東京都) 2025年8月5日(火)～31日(日) 東京都 東京駅(東京都), 二重橋前駅(東京都), 有楽町駅(東京都), 京橋駅(東京都), 銀座一丁目駅(東京都) * BEER TERRACE in（marunouchi）HOUSE 2025 2025年6月20日(金)～9月21日(日) 東京都 東京駅(東京都), 二重橋前駅(東京都), 大手町駅(東京都), 有楽町駅(東京都), 京橋駅(東京都) 2025年7月5日(土)～8月31日(日) 東京都 東京駅(東京都), 二重橋前駅(東京都), 大手町駅(東京都), 日本橋駅(東京都), 京橋駅(東京都) 東京都 二重橋前駅(東京都), 有楽町駅(東京都), 東京駅(東京都), 日比谷駅(東京都) 2025年6月24日(火)～9月21日(日) 東京都 京橋駅(東京都), 宝町駅(東京都), 日本橋駅(東京都), 東京駅(東京都), 銀座一丁目駅(東京都) :   * 東京都 * ワンコとニャンコ Walker * からだにplus Walker',\n",
       "   'score': 0.7625837,\n",
       "   'raw_content': None},\n",
       "  {'url': 'https://iko-yo.net/events?prefecture_ids%5B%5D=13&tags%5B%5D=%E6%9D%B1%E4%BA%AC%E9%A7%85&term=1',\n",
       "   'title': '東京都 東京駅の 子ども・親子おでかけ 今日のイベント情報 - いこーよ',\n",
       "   'content': '+ 0歳 + 1歳 + 2歳 + 3歳 + 4歳 + 5歳 + 6歳 + 7歳 + 8歳 + 9歳 # 東京都（東京駅）のイベント [ 今日 ]2025年8月26日(火) 要予約 2025年10月5日(日) 要予約 2025年8月1日(金)～12月1日(月) 要予約 東京都中央区八重洲1-5-9八重洲加藤ビルディング 3F（東京VIPラウンジ内） 要予約 東京都中央区八重洲1-5-9八重洲加藤ビルディング 3F（東京VIPラウンジ内） 要予約 東京都中央区八重洲1-5-9八重洲加藤ビルディング3階（東京ＶＩＰラウンジ内） 要予約 2025年10月5日(日) 東京都渋谷区 / 撮影イベント 要予約 完全無料 2025年8月26日(火)、8月29日(金)、8月31日(日) 東京都三鷹市 / 撮影イベント 要予約 完全無料 2025年9月21日(日) | 日 | 月 | 火 | 水 | 木 | 金 | 土 | | 子どもの年齢 | * 0歳 * 1歳 * 2歳 * 3歳 * 4歳 * 5歳 * 6歳 * 7歳 * 8歳 * 9歳 * 10歳 * 11歳 * 12歳 * 乳児 * 幼児 * 小学生 * 中学生・高校生 * 大人 | | 事前予約・応募 | * 要予約 * 予約不要 | | 料金 | * 完全無料 |',\n",
       "   'score': 0.7593865,\n",
       "   'raw_content': None},\n",
       "  {'url': 'https://www.enjoytokyo.jp/event/list/sta200101/its04/',\n",
       "   'title': '今日行ける！東京駅周辺のおすすめイベント',\n",
       "   'content': '東京都\\u3000千代田区 東京ビアホール＆ビアテラス14『TOKYO BEER WAVE』 東京ビアホール＆ビアテラス14『TOKYO BEER WAVE』 東京都\\u3000千代田区 2025/05/29(木) ～ 09/07(日) 東京都\\u3000文京区 伊勢丹 立川店：3/26〜4/15 国際フォーラム：7/14〜7/31 日本橋三越本店：8/6〜8/19 文京グリーンコート：9/1〜9/30 2025/06/13(金) ～ 06/26(木) ～ 2025/06/22(日) 2025/06/14(土) ～ 07/21(月・祝) ～ 2025/06/22(日) ～ 2025/06/22(日) 2025/05/27(火) ～ 09/23(火・祝) 東京都\\u3000港区 2025/05/12(月) ～ 09/07(日) 東京都\\u3000港区 2025/04/18(金) ～ 09/23(火・祝) 2025/01/18(土) ～ ※上映日・上映時間は公式ウェブサイトよりご確認ください。 東京都\\u3000武蔵野市 2025/06/21(土) ～ 08/17(日) 東京都\\u3000武蔵野市 2025/06/06(金) ～ 07/06(日) ※期間中の金曜日、土曜日、日曜日に開催 Lounge ＆ Dining G／東京マリオットホテル 東京都・品川駅 ／ テラスレストラン Cafe & Dining ZelkovA／ザ ストリングス 表参道 東京都・表参道駅 ／ テラスレストラン 東京都・渋谷駅 ／ テラスレストラン 東京都・吉祥寺駅 ／ テラスレストラン 東京都・渋谷駅 ／ テラスレストラン 東京都・六本木一丁目駅 ／ テラスレストラン 東京都・京橋駅 ／ テラスレストラン 東京都・渋谷駅 ／ テラスレストラン 東京都・銀座一丁目駅 ／ テラスレストラン 東京都・表参道駅 ／ テラスレストラン 347 CAFE ＆ LOUNGE 東京都・渋谷駅 ／ テラスレストラン 東京都・神保町駅 ／ テラスレストラン 東京都・渋谷駅 ／ テラスレストラン 神奈川県・みなとみらい駅 ／ テラスレストラン 神奈川県・横浜駅 ／ テラスレストラン 千葉県・船橋駅 ／ テラスレストラン',\n",
       "   'score': 0.7147281,\n",
       "   'raw_content': None},\n",
       "  {'url': 'https://www.enjoytokyo.jp/event/list/area1306/',\n",
       "   'title': \"東京駅周辺・丸の内でおすすめのイベント - Let's ENJOY TOKYO\",\n",
       "   'content': '～ 2025/06/01(日) 休館日：月曜日（5月5日は開館）、5月7日 ～ 2025/06/01(日) ～ 2025/06/01(日) 休館日：月曜日（5月5日は開館）、5月7日 ～ 2025/06/03(火) ～ 2025/06/03(火) ～ 2025/06/03(火) 2025/05/29(木) ～ 09/07(日) 伊勢丹 立川店：3/26〜4/15 国際フォーラム：7/14〜7/31 日本橋三越本店：8/6〜8/19 文京グリーンコート：9/1〜9/30 2025/05/21(水) ～ 06/30(月) 熊本が誇る旬の逸品“春スイカ”を首都圏で楽しめる「熊本 春スイカ フェスタ」が開催！ 2025/04/08(火) ～ 07/27(日) 休室日：月曜日、7月8日(火)～13日(日) 2025/05/19(月) ～ 06/08(日) ～ 2025/05/31(土) 2025/06/21(土) ～ 06/22(日) 2025/06/21(土) ～ 06/22(日) 2026/02/07(土) ～ 05/24(日) 休館日：2026/02/16(月)、03/16(月)、04/13(月)、05/11(月) 20世紀北欧デザインの巨匠 スティグ・リンドベリ展 2025/08/20(水) ～ 09/07(日) 20世紀北欧デザインの巨匠 スティグ・リンドベリ展 20世紀北欧デザインの巨匠 スティグ・リンドベリの作品約300点を展示！ 2025/07/26(土) ～ 08/15(金) 2025/06/06(金) ～ 07/06(日) 2025/06/14(土) ～ 07/21(月・祝) 2025/05/31(土) ～ 06/01(日) ～ 2025/05/31(土) 2025/05/13(火) ～ 07/06(日) 休館日は月曜日。開映日時は作品によって異なる。 天空茶会第二十四葉 特別セミナー世界の茶産地を訪ねて セミナー午前の部\\u3000ネパールとの出会い 天空茶会第二十四葉 特別セミナー世界の茶産地を訪ねて セミナー午前の部\\u3000ネパールとの出会い 2025/07/15(火) ～ 08/24(日) 休館日は月曜日。開映日時は作品によって異なる。 2025/07/18(金) ～ 10/05(日) ～ 2025/06/01(日) 2025/06/07(土) ～ 06/15(日) 2025/05/30(金) ～ 06/01(日) 2025/01/18(土) ～ ※上映日・上映時間は公式ウェブサイトよりご確認ください。 2025/05/16(金) ～ 06/29(日) 2025/05/24(土) ～ 06/16(月) Lounge ＆ Dining G／東京マリオットホテル Cafe & Dining ZelkovA／ザ ストリングス 表参道 347 CAFE ＆ LOUNGE',\n",
       "   'score': 0.70871735,\n",
       "   'raw_content': None}]}"
      ]
     },
     "execution_count": 3,
     "metadata": {},
     "output_type": "execute_result"
    }
   ],
   "source": [
    "# テスト用コード\n",
    "ret = get_search_result(\"東京駅のイベントを教えて\")\n",
    "json.loads(ret)"
   ]
  },
  {
   "cell_type": "code",
   "execution_count": 5,
   "id": "f6096d9c",
   "metadata": {},
   "outputs": [],
   "source": [
    "# ツール定義\n",
    "def define_tools():\n",
    "    print(\"------define_tools(ツール定義)------\")\n",
    "    return [\n",
    "        ChatCompletionToolParam({\n",
    "            \"type\": \"function\",\n",
    "            \"function\": {\n",
    "                \"name\": \"get_search_result\",\n",
    "                \"description\": \"最近一ヵ月のイベント開催予定などネット検索が必要な場合に、質問文の検索結果を取得する\",\n",
    "                \"parameters\": {\n",
    "                    \"type\": \"object\",\n",
    "                    \"properties\": {\n",
    "                        \"question\": {\"type\": \"string\", \"description\": \"質問文\"},\n",
    "                    },\n",
    "                    \"required\": [\"question\"],\n",
    "                },\n",
    "            },\n",
    "        })]\n",
    "    "
   ]
  },
  {
   "cell_type": "code",
   "execution_count": 6,
   "id": "51f2e8bc",
   "metadata": {},
   "outputs": [],
   "source": [
    "# 言語モデルへの質問を行う関数\n",
    "def ask_question(question, tools):\n",
    "    response = client.chat.completions.create(\n",
    "        model=MODEL_NAME,\n",
    "        messages=[{\"role\": \"user\", \"content\": question}],\n",
    "        tools=tools,\n",
    "        tool_choice=\"auto\",\n",
    "    )\n",
    "    return response"
   ]
  },
  {
   "cell_type": "code",
   "execution_count": 7,
   "id": "56bd8ad4",
   "metadata": {},
   "outputs": [],
   "source": [
    "# ツール呼び出しが必要な場合の処理を行う関数\n",
    "def handle_tool_call(response, question):\n",
    "    # 関数の実行と結果取得\n",
    "    tool = response.choices[0].message.tool_calls[0]\n",
    "    function_name = tool.function.name\n",
    "    arguments = json.loads(tool.function.arguments)\n",
    "    function_response = globals()[function_name](**arguments)\n",
    "\n",
    "    # 関数の実行結果をmessagesに加えて再度言語モデルを呼出\n",
    "    response_after_tool_call = client.chat.completions.create(\n",
    "        model=MODEL_NAME,\n",
    "        messages=[\n",
    "            {\"role\": \"user\", \"content\": question},\n",
    "            response.choices[0].message,\n",
    "            {\n",
    "                \"tool_call_id\": tool.id,\n",
    "                \"role\": \"tool\",\n",
    "                \"content\": function_response,\n",
    "            },\n",
    "        ],\n",
    "    )\n",
    "    return response_after_tool_call"
   ]
  },
  {
   "cell_type": "code",
   "execution_count": 8,
   "id": "5305af0e",
   "metadata": {},
   "outputs": [],
   "source": [
    "# ユーザーからの質問を処理する関数\n",
    "def process_response(question, tools):\n",
    "    response = ask_question(question, tools)\n",
    "\n",
    "    if response.choices[0].finish_reason == 'tool_calls':\n",
    "        # ツール呼出の場合\n",
    "        final_response = handle_tool_call(response, question)\n",
    "        return final_response.choices[0].message.content.strip()\n",
    "    else:\n",
    "        # 言語モデルが直接回答する場合\n",
    "        return response.choices[0].message.content.strip()"
   ]
  },
  {
   "cell_type": "code",
   "execution_count": 9,
   "id": "d18e9e63",
   "metadata": {},
   "outputs": [
    {
     "name": "stdout",
     "output_type": "stream",
     "text": [
      "------define_tools(ツール定義)------\n",
      "東京都と沖縄県の面積を比較すると、沖縄県の方が広いです。具体的には：\n",
      "\n",
      "- 東京都の面積は約2,194平方キロメートルです。\n",
      "- 沖縄県の面積は約2,271平方キロメートルです。\n",
      "\n",
      "したがって、沖縄県の方が東京都よりも約77平方キロメートル広いことになります。\n"
     ]
    }
   ],
   "source": [
    "tools = define_tools()\n",
    "\n",
    "# 言語モデルが直接回答できる質問\n",
    "question = \"東京都と沖縄県はどちらが広いですか？\"\n",
    "response_message = process_response(question, tools)\n",
    "print(response_message)"
   ]
  },
  {
   "cell_type": "code",
   "execution_count": 10,
   "id": "40753d3e",
   "metadata": {},
   "outputs": [
    {
     "name": "stdout",
     "output_type": "stream",
     "text": [
      "------define_tools(ツール定義)------\n",
      "最近1ヶ月以内の東京駅周辺のイベント情報を以下にまとめました。\n",
      "\n",
      "1. **T3 PHOTO FESTIVAL TOKYO 2022**  \n",
      "   - **日時**: 10月1日（土）より開催  \n",
      "   - **内容**: 鉄道に関する写真展などが実施されます。  \n",
      "   - **詳細**: [T3 PHOTO FESTIVAL詳細](https://guidetokyo.info/join/report/index.html)\n",
      "\n",
      "2. **東京駅周辺のイベント情報**  \n",
      "   - **日時**: 随時開催中の各種イベント  \n",
      "   - **内容**: 東京駅周辺では多くのイベントが行われ、特に8月には様々な屋外イベントや飲食イベントが予定されています。  \n",
      "   - **詳細**: [WalkerPlus イベント一覧](https://www.walkerplus.com/event_list/ar0313/sc309880d/)\n",
      "\n",
      "3. **東京都内のおすすめイベント**  \n",
      "   - **期間**: 2025年のイベント予定（例）  \n",
      "   - **内容**: ジャズや多国籍の料理フェスティバル等、多彩なイベントが企画されています。  \n",
      "   - **詳細**: [Enjoy Tokyo イベント情報](https://www.enjoytokyo.jp/event/list/ranking/its05/)\n",
      "\n",
      "4. **あめりか村祭り**  \n",
      "   - **日時**: 11月9日（木）に開催予定  \n",
      "   - **内容**: 地元の文化を感じるための祭り。詳細情報は随時更新されます。  \n",
      "   - **詳細**: [あめりか村祭りの詳細](https://note.com/beyond_ama_fes/n/ne6aa4513738c)\n",
      "\n",
      "これらの情報を参考に、ぜひ東京駅周辺のイベントを楽しんでください！\n"
     ]
    }
   ],
   "source": [
    "tools = define_tools()\n",
    "\n",
    "# ツール呼出が必要な質問\n",
    "question = \"東京駅のイベントについて、最近1ヶ月以内の検索結果を教えてください\"\n",
    "response_message = process_response(question, tools)\n",
    "print(response_message)"
   ]
  },
  {
   "cell_type": "code",
   "execution_count": 11,
   "id": "48fda236",
   "metadata": {},
   "outputs": [
    {
     "name": "stdout",
     "output_type": "stream",
     "text": [
      "------define_tools(ツール定義)------\n"
     ]
    },
    {
     "data": {
      "text/plain": [
       "'質問:こんにちは!'"
      ]
     },
     "metadata": {},
     "output_type": "display_data"
    },
    {
     "name": "stdout",
     "output_type": "stream",
     "text": [
      "こんにちは！何かお手伝いできることはありますか？\n"
     ]
    },
    {
     "data": {
      "text/plain": [
       "'質問:東北6県は？'"
      ]
     },
     "metadata": {},
     "output_type": "display_data"
    },
    {
     "name": "stdout",
     "output_type": "stream",
     "text": [
      "東北地方は、日本の北東部に位置する地域で、以下の6つの県があります。\n",
      "\n",
      "1. 青森県 (あおもりけん)\n",
      "2. 岩手県 (いわてけん)\n",
      "3. 宮城県 (みやぎけん)\n",
      "4. 秋田県 (あきたけん)\n",
      "5. 山形県 (やまがたけん)\n",
      "6. 福島県 (ふくしまけん)\n",
      "\n",
      "これらの県は自然豊かで、歴史や文化も多様です。\n"
     ]
    },
    {
     "data": {
      "text/plain": [
       "'質問:宮城県のお土産について検索した結果を教えて'"
      ]
     },
     "metadata": {},
     "output_type": "display_data"
    },
    {
     "name": "stdout",
     "output_type": "stream",
     "text": [
      "宮城県のお土産には以下のようなものがあります。\n",
      "\n",
      "1. **牛タン** - 宮城県名物の牛タンは、観光客に非常に人気があります。多くの店でスライスされたものや、加工品が販売されています。\n",
      "   - 詳細: [楽天トラベル](https://travel.rakuten.co.jp/mytrip/howto/sendai-souvenir)\n",
      "\n",
      "2. **ずんだ餅** - 枝豆を使った餡を載せた餅で、甘さと香りが癖になります。\n",
      "   - 詳細: [サキドリ](https://sakidori.co/article/1320827)\n",
      "\n",
      "3. **笹かまぼこ** - 魚のすり身を使ったお土産で、食感が特徴です。焼きたてを楽しむこともできます。\n",
      "   - 詳細: [Atlast](https://atlas-log.com/miyagi-souvenir/)\n",
      "\n",
      "4. **仙台味噌** - 仙台の地味噌で、料理に深みを与えてくれる調味料です。\n",
      "   - 詳細: [トラベル](https://travel.rakuten.co.jp/mytrip/howto/sendai-souvenir)\n",
      "\n",
      "5. **萩の月** - 人気のある洋菓子で、カスタードクリームを包んだお菓子です。\n",
      "   - 詳細: [楽天トラベル](https://travel.rakuten.co.jp/mytrip/howto/sendai-souvenir)\n",
      "\n",
      "6. **ままどおる** - もちっとした食感のお菓子で、あんこが入っています。\n",
      "   - 詳細: [センス](https://tohokuru.jp/blogs/feature/miyage_miyagi?srsltid=AfmBOoq5H79fJMXDppH8HuieTp3qRuRi7fjPqJ6Kw5XBJJMMk4NtMlL8)\n",
      "\n",
      "これらは特にお勧めの品で、宮城県を訪れた際にはぜひお土産として購入してみてください。\n",
      "\n",
      "---ご利用ありがとうございました！---\n"
     ]
    }
   ],
   "source": [
    "# チャットボットへの組み込み\n",
    "tools = define_tools()\n",
    "\n",
    "messages=[]\n",
    "\n",
    "while(True):\n",
    "    # ユーザーからの質問を受付\n",
    "    question = input(\"メッセージを入力:\")\n",
    "    # 質問が入力されなければ終了\n",
    "    if question.strip()==\"\":\n",
    "        break\n",
    "    display(f\"質問:{question}\")\n",
    "\n",
    "    # メッセージにユーザーからの質問を追加\n",
    "    messages.append({\"role\": \"user\", \"content\": question.strip()})\n",
    "    # やりとりが8を超えたら古いメッセージから削除\n",
    "    if len(messages) > 8:\n",
    "        del_message = messages.pop(0)\n",
    "\n",
    "    # 言語モデルに質問\n",
    "    response_message = process_response(question, tools)\n",
    "\n",
    "    # メッセージに言語モデルからの回答を追加\n",
    "    print(response_message, flush=True)\n",
    "    messages.append({\"role\": \"assistant\", \"content\": response_message})\n",
    "\n",
    "print(\"\\n---ご利用ありがとうございました！---\")"
   ]
  }
 ],
 "metadata": {
  "kernelspec": {
   "display_name": ".venv",
   "language": "python",
   "name": "python3"
  },
  "language_info": {
   "codemirror_mode": {
    "name": "ipython",
    "version": 3
   },
   "file_extension": ".py",
   "mimetype": "text/x-python",
   "name": "python",
   "nbconvert_exporter": "python",
   "pygments_lexer": "ipython3",
   "version": "3.12.11"
  }
 },
 "nbformat": 4,
 "nbformat_minor": 5
}
