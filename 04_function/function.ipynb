{
 "cells": [
  {
   "cell_type": "markdown",
   "id": "d5fa7078",
   "metadata": {},
   "source": [
    "Lesson 4\n",
    "# 関数とモジュール"
   ]
  },
  {
   "cell_type": "markdown",
   "id": "a35618ac",
   "metadata": {},
   "source": [
    "Chapter 2\n",
    "## 関数の定義と呼び出し"
   ]
  },
  {
   "cell_type": "code",
   "execution_count": 1,
   "id": "39014ede",
   "metadata": {},
   "outputs": [
    {
     "name": "stdout",
     "output_type": "stream",
     "text": [
      "「にんてんどううどんてんに」は回文です！\n",
      "「Pythonは便利だが遅い」は回文ではないです。\n",
      "「no devil lived on」は回文です！\n"
     ]
    }
   ],
   "source": [
    "s = \"にんてんどううどんてんに\"\n",
    "if s == s[::-1]: # 元の値とひっくり返した値が同値である\n",
    "    print(f\"「{s}」は回文です！\")\n",
    "else:\n",
    "    print(f\"「{s}」は回文ではないです。\")\n",
    "\n",
    "s = \"Pythonは便利だが遅い\"\n",
    "if s == s[::-1]:\n",
    "    print(f\"「{s}」は回文です！\")\n",
    "else:\n",
    "    print(f\"「{s}」は回文ではないです。\")\n",
    "\n",
    "s = \"no devil lived on\"\n",
    "if s == s[::-1]:\n",
    "    print(f\"「{s}」は回文です！\")\n",
    "else:\n",
    "    print(f\"「{s}」は回文ではないです。\")"
   ]
  },
  {
   "cell_type": "markdown",
   "id": "ea5084ac",
   "metadata": {},
   "source": [
    "Chapter 2.2\n",
    "## 関数の定義と呼び出し"
   ]
  },
  {
   "cell_type": "code",
   "execution_count": 2,
   "id": "493d7bfe",
   "metadata": {},
   "outputs": [],
   "source": [
    "def is_palindrome(s):\n",
    "    if s == s[::-1]:\n",
    "        print(f\"「{s}」は回文です！\")\n",
    "    else:\n",
    "        print(f\"「{s}」は回文ではないです。\")"
   ]
  },
  {
   "cell_type": "code",
   "execution_count": 3,
   "id": "135c6cb8",
   "metadata": {},
   "outputs": [
    {
     "name": "stdout",
     "output_type": "stream",
     "text": [
      "「にんてんどううどんてんに」は回文です！\n"
     ]
    }
   ],
   "source": [
    "is_palindrome(\"にんてんどううどんてんに\")"
   ]
  },
  {
   "cell_type": "code",
   "execution_count": 4,
   "id": "b1401449",
   "metadata": {},
   "outputs": [
    {
     "name": "stdout",
     "output_type": "stream",
     "text": [
      "「にんてんどううどんてんに」は回文です！\n",
      "「Pythonは便利だが遅い」は回文ではないです。\n",
      "「no devil lived on」は回文です！\n"
     ]
    }
   ],
   "source": [
    "def is_palindrome(s):\n",
    "    if s == s[::-1]:\n",
    "        print(f\"「{s}」は回文です！\")\n",
    "    else:\n",
    "        print(f\"「{s}」は回文ではないです。\")\n",
    "\n",
    "is_palindrome(\"にんてんどううどんてんに\")\n",
    "\n",
    "is_palindrome(\"Pythonは便利だが遅い\")\n",
    "\n",
    "is_palindrome(\"no devil lived on\")"
   ]
  },
  {
   "cell_type": "markdown",
   "id": "72240051",
   "metadata": {},
   "source": [
    "Chapter 2.3\n",
    "## 引数（パラメータ）"
   ]
  },
  {
   "cell_type": "code",
   "execution_count": 5,
   "id": "2819c61b",
   "metadata": {},
   "outputs": [],
   "source": [
    "def greet(name):\n",
    "    print(f\"こんにちは、{name}さん！\")\n"
   ]
  },
  {
   "cell_type": "code",
   "execution_count": 6,
   "id": "3cfef105",
   "metadata": {},
   "outputs": [
    {
     "name": "stdout",
     "output_type": "stream",
     "text": [
      "こんにちは、太郎さん！\n",
      "こんにちは、花子さん！\n"
     ]
    }
   ],
   "source": [
    "greet(\"太郎\")\n",
    "greet(\"花子\")"
   ]
  },
  {
   "cell_type": "code",
   "execution_count": 7,
   "id": "d287fe1b",
   "metadata": {},
   "outputs": [],
   "source": [
    "def introduce(name, age):\n",
    "    print(f\"こんにちは、{name}さん！ 年齢は{age}歳ですね。\")"
   ]
  },
  {
   "cell_type": "code",
   "execution_count": 8,
   "id": "45c5acc2",
   "metadata": {},
   "outputs": [
    {
     "name": "stdout",
     "output_type": "stream",
     "text": [
      "こんにちは、太郎さん！ 年齢は20歳ですね。\n",
      "こんにちは、花子さん！ 年齢は25歳ですね。\n"
     ]
    }
   ],
   "source": [
    "introduce(\"太郎\", 20)\n",
    "introduce(\"花子\", 25)"
   ]
  },
  {
   "cell_type": "code",
   "execution_count": 9,
   "id": "9737f19e",
   "metadata": {},
   "outputs": [],
   "source": [
    "def introduce(name, age=18):\n",
    "    print(f\"こんにちは、{name}さん！ 年齢は{age}歳ですね。\")"
   ]
  },
  {
   "cell_type": "code",
   "execution_count": 10,
   "id": "bae1326b",
   "metadata": {},
   "outputs": [
    {
     "name": "stdout",
     "output_type": "stream",
     "text": [
      "こんにちは、太郎さん！ 年齢は18歳ですね。\n",
      "こんにちは、花子さん！ 年齢は25歳ですね。\n"
     ]
    }
   ],
   "source": [
    "introduce(\"太郎\")\n",
    "introduce(\"花子\", 25)"
   ]
  },
  {
   "cell_type": "code",
   "execution_count": 11,
   "id": "8c9a9528",
   "metadata": {},
   "outputs": [
    {
     "name": "stdout",
     "output_type": "stream",
     "text": [
      "合計:6\n",
      "合計:50\n"
     ]
    }
   ],
   "source": [
    "def add(*args):\n",
    "    result = sum(args)\n",
    "    print(f\"合計:{result}\")\n",
    "\n",
    "add(1, 2, 3)\n",
    "add(5, 10, 15, 20)"
   ]
  },
  {
   "cell_type": "code",
   "execution_count": 12,
   "id": "1c830200",
   "metadata": {},
   "outputs": [
    {
     "name": "stdout",
     "output_type": "stream",
     "text": [
      "name : 太郎\n",
      "age : 20\n",
      "hobby : 読書\n"
     ]
    }
   ],
   "source": [
    "def introduce(**kwargs):\n",
    "    for key, value in kwargs.items():\n",
    "        print(f\"{key} : {value}\")\n",
    "\n",
    "introduce(name=\"太郎\", age=20, hobby=\"読書\")"
   ]
  },
  {
   "cell_type": "markdown",
   "id": "0cabcba3",
   "metadata": {},
   "source": [
    "Chapter 2.4\n",
    "## 戻り値（return文）"
   ]
  },
  {
   "cell_type": "code",
   "execution_count": 13,
   "id": "f3276180",
   "metadata": {},
   "outputs": [],
   "source": [
    "def add(a, b):\n",
    "    result = a + b\n",
    "    return result"
   ]
  },
  {
   "cell_type": "code",
   "execution_count": 14,
   "id": "94223238",
   "metadata": {},
   "outputs": [
    {
     "name": "stdout",
     "output_type": "stream",
     "text": [
      "8\n"
     ]
    }
   ],
   "source": [
    "total = add(3, 5)\n",
    "print(total)"
   ]
  },
  {
   "cell_type": "code",
   "execution_count": 15,
   "id": "0d8be49a",
   "metadata": {},
   "outputs": [],
   "source": [
    "def calculate(a, b):\n",
    "    sum_result = a + b\n",
    "    product_result = a * b\n",
    "    return sum_result, product_result"
   ]
  },
  {
   "cell_type": "code",
   "execution_count": 16,
   "id": "75dd3fcb",
   "metadata": {},
   "outputs": [
    {
     "name": "stdout",
     "output_type": "stream",
     "text": [
      "足し算結果: 7\n",
      "掛け算結果: 12\n"
     ]
    }
   ],
   "source": [
    "result1, result2 = calculate(3, 4)\n",
    "print(\"足し算結果:\", result1)\n",
    "print(\"掛け算結果:\", result2)"
   ]
  },
  {
   "cell_type": "code",
   "execution_count": 17,
   "id": "4907dab1",
   "metadata": {},
   "outputs": [
    {
     "name": "stdout",
     "output_type": "stream",
     "text": [
      "Hello!\n",
      "None\n"
     ]
    }
   ],
   "source": [
    "def greet():\n",
    "    print(\"Hello!\")\n",
    "\n",
    "result = greet()\n",
    "print(result)\n"
   ]
  },
  {
   "cell_type": "code",
   "execution_count": 18,
   "id": "4f31fa26",
   "metadata": {},
   "outputs": [
    {
     "name": "stdout",
     "output_type": "stream",
     "text": [
      "25\n"
     ]
    }
   ],
   "source": [
    "# 掛け算を行う関数\n",
    "def multiply(a, b):\n",
    "    return a * b\n",
    "\n",
    "# 2乗を行う関数\n",
    "def square(number):\n",
    "    return multiply(number, number)\n",
    "\n",
    "print(square(5))"
   ]
  },
  {
   "cell_type": "markdown",
   "id": "68c20542",
   "metadata": {},
   "source": [
    "Chapter 3\n",
    "## モジュールとライブラリの活用"
   ]
  },
  {
   "cell_type": "markdown",
   "id": "7487b1ef",
   "metadata": {},
   "source": [
    "Chapter 3.1\n",
    "## モジュールのインポート"
   ]
  },
  {
   "cell_type": "code",
   "execution_count": 19,
   "id": "6a5de637",
   "metadata": {},
   "outputs": [
    {
     "name": "stdout",
     "output_type": "stream",
     "text": [
      "4.0\n"
     ]
    }
   ],
   "source": [
    "import math\n",
    "\n",
    "# mathモジュールの関数を使用\n",
    "print(math.sqrt(16))  # 出力: 4.0"
   ]
  },
  {
   "cell_type": "code",
   "execution_count": 20,
   "id": "d1767108",
   "metadata": {},
   "outputs": [
    {
     "name": "stdout",
     "output_type": "stream",
     "text": [
      "現在の日時: 2025-08-19 10:54:49.308750\n"
     ]
    }
   ],
   "source": [
    "import datetime as dt\n",
    "\n",
    "# 現在の日時を取得\n",
    "now = dt.datetime.now()\n",
    "print(\"現在の日時:\", now)"
   ]
  },
  {
   "cell_type": "code",
   "execution_count": 21,
   "id": "53f8d28e",
   "metadata": {},
   "outputs": [
    {
     "name": "stdout",
     "output_type": "stream",
     "text": [
      "4.0\n"
     ]
    }
   ],
   "source": [
    "from math import sqrt\n",
    "\n",
    "# 直接関数を呼び出せる\n",
    "print(sqrt(16))  # 出力: 4.0"
   ]
  },
  {
   "cell_type": "code",
   "execution_count": 22,
   "id": "52e1ceee",
   "metadata": {},
   "outputs": [
    {
     "name": "stdout",
     "output_type": "stream",
     "text": [
      "4.0\n",
      "3.141592653589793\n"
     ]
    }
   ],
   "source": [
    "from math import sqrt, pi\n",
    "\n",
    "# sqrtとpiを直接呼び出せる\n",
    "print(sqrt(16))  # 出力: 4.0\n",
    "print(pi)        # 出力: 3.141592653589793"
   ]
  },
  {
   "cell_type": "code",
   "execution_count": 23,
   "id": "c7c7ca90",
   "metadata": {},
   "outputs": [
    {
     "name": "stdout",
     "output_type": "stream",
     "text": [
      "4.0\n",
      "3.141592653589793\n"
     ]
    }
   ],
   "source": [
    "from math import *\n",
    "\n",
    "print(sqrt(16))  # 出力: 4.0\n",
    "print(pi)        # 出力: 3.141592653589793\n"
   ]
  }
 ],
 "metadata": {
  "kernelspec": {
   "display_name": ".venv",
   "language": "python",
   "name": "python3"
  },
  "language_info": {
   "codemirror_mode": {
    "name": "ipython",
    "version": 3
   },
   "file_extension": ".py",
   "mimetype": "text/x-python",
   "name": "python",
   "nbconvert_exporter": "python",
   "pygments_lexer": "ipython3",
   "version": "3.12.11"
  }
 },
 "nbformat": 4,
 "nbformat_minor": 5
}
