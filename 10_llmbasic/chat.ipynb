{
 "cells": [
  {
   "cell_type": "code",
   "execution_count": 1,
   "id": "dccd4982",
   "metadata": {},
   "outputs": [],
   "source": [
    "# 必要なモジュールをインポート\n",
    "import os\n",
    "from dotenv import load_dotenv\n",
    "from openai import OpenAI\n",
    "from pprint import pprint\n",
    "\n",
    "# 環境変数の取得\n",
    "load_dotenv(\"../.env\")\n",
    "\n",
    "# OpenAI APIクライアントを生成\n",
    "client = OpenAI(api_key=os.environ['API_KEY'])\n",
    "\n",
    "# モデル名\n",
    "MODEL_NAME = \"gpt-4o-mini\"\n"
   ]
  },
  {
   "cell_type": "code",
   "execution_count": 2,
   "id": "1e8bb1e0",
   "metadata": {},
   "outputs": [
    {
     "name": "stdout",
     "output_type": "stream",
     "text": [
      "{'_request_id': 'req_1906f9e5b47f44879f174372cc8c6a5e',\n",
      " 'choices': [Choice(finish_reason='stop', index=0, logprobs=None, message=ChatCompletionMessage(content='言語モデルを効果的に活用するためのポイントはいくつかあります：\\n\\n1. **クリアな指示**: モデルに明確で具体的な指示を与えることで、期待する結果を得やすくなります。質問やリクエストを具体的にすることが重要です。\\n\\n2. **コンテキストの提供**: モデルがより関連性の高い応答を生成するためには、十分なコンテキストを提供することが重要です。背景情報や目的を説明することで、より適切な回答が得られます。\\n\\n3. **フィードバックの活用**: モデルの応答に対してフィードバックを与えることで、より良い結果を促していくことができます。必要に応じて再度質問をしたり、修正を加えたりすることが効果的です。\\n\\n4. **実践を重ねる**: モデルと対話を繰り返すことで、どのような質問やリクエストがより良い結果を引き出すかを学ぶことができます。\\n\\n5. **トーンやスタイルの指定**: 求める応答のトーンやスタイルを指定することで、望ましい形でのコミュニケーションが可能になります。\\n\\n6. **テストと調整**: 異なるアプローチやフレーズを試すことで、最も効果的な方法を見つけることができます。モデルの応答をテストし、調整していくことが重要です。\\n\\n7. **制限の理解**: 言語モデルには限界があるため、必ず最新の情報や専門的な知識が必要な場合には必ず他の信頼できるソースと照らし合わせて確認することが大切です。\\n\\n8. **倫理的な配慮**: 情報の使用に際しては倫理的な配慮を忘れずに。誤解を招くような情報を避けたり、プライバシーに配慮することが求められます。\\n\\nこれらのポイントを意識することで、言語モデルをより効果的に活用できるでしょう。', refusal=None, role='assistant', audio=None, function_call=None, tool_calls=None, annotations=[]))],\n",
      " 'created': 1756183158,\n",
      " 'id': 'chatcmpl-C8fkkn80PydsIJwbv05BAtrR54S57',\n",
      " 'model': 'gpt-4o-mini-2024-07-18',\n",
      " 'object': 'chat.completion',\n",
      " 'service_tier': 'default',\n",
      " 'system_fingerprint': 'fp_51db84afab',\n",
      " 'usage': CompletionUsage(completion_tokens=504, prompt_tokens=18, total_tokens=522, completion_tokens_details=CompletionTokensDetails(accepted_prediction_tokens=0, audio_tokens=0, reasoning_tokens=0, rejected_prediction_tokens=0), prompt_tokens_details=PromptTokensDetails(audio_tokens=0, cached_tokens=0))}\n"
     ]
    }
   ],
   "source": [
    "# メッセージの設定\n",
    "message = \"言語モデルを使う上でのポイントは\"\n",
    "\n",
    "# APIへリクエスト\n",
    "response = client.chat.completions.create(\n",
    "    model=MODEL_NAME,\n",
    "    messages=[\n",
    "        {\"role\": \"user\", \"content\": message},\n",
    "    ]\n",
    ")\n",
    "\n",
    "# レスポンスの表示\n",
    "pprint(vars(response))"
   ]
  },
  {
   "cell_type": "code",
   "execution_count": 3,
   "id": "cd3b1ba2",
   "metadata": {},
   "outputs": [
    {
     "name": "stdout",
     "output_type": "stream",
     "text": [
      "言語モデルを効果的に活用するためのポイントはいくつかあります：\n",
      "\n",
      "1. **クリアな指示**: モデルに明確で具体的な指示を与えることで、期待する結果を得やすくなります。質問やリクエストを具体的にすることが重要です。\n",
      "\n",
      "2. **コンテキストの提供**: モデルがより関連性の高い応答を生成するためには、十分なコンテキストを提供することが重要です。背景情報や目的を説明することで、より適切な回答が得られます。\n",
      "\n",
      "3. **フィードバックの活用**: モデルの応答に対してフィードバックを与えることで、より良い結果を促していくことができます。必要に応じて再度質問をしたり、修正を加えたりすることが効果的です。\n",
      "\n",
      "4. **実践を重ねる**: モデルと対話を繰り返すことで、どのような質問やリクエストがより良い結果を引き出すかを学ぶことができます。\n",
      "\n",
      "5. **トーンやスタイルの指定**: 求める応答のトーンやスタイルを指定することで、望ましい形でのコミュニケーションが可能になります。\n",
      "\n",
      "6. **テストと調整**: 異なるアプローチやフレーズを試すことで、最も効果的な方法を見つけることができます。モデルの応答をテストし、調整していくことが重要です。\n",
      "\n",
      "7. **制限の理解**: 言語モデルには限界があるため、必ず最新の情報や専門的な知識が必要な場合には必ず他の信頼できるソースと照らし合わせて確認することが大切です。\n",
      "\n",
      "8. **倫理的な配慮**: 情報の使用に際しては倫理的な配慮を忘れずに。誤解を招くような情報を避けたり、プライバシーに配慮することが求められます。\n",
      "\n",
      "これらのポイントを意識することで、言語モデルをより効果的に活用できるでしょう。\n"
     ]
    }
   ],
   "source": [
    "# 言語モデルからの回答を表示\n",
    "print(response.choices[0].message.content.strip())"
   ]
  },
  {
   "cell_type": "code",
   "execution_count": 4,
   "id": "aa67ec14",
   "metadata": {},
   "outputs": [
    {
     "name": "stdout",
     "output_type": "stream",
     "text": [
      "新製品の発売に向けた効果的なマーケティング戦略は、以下のステップに分けて考えると良いでしょう。\n",
      "\n",
      "### 1. 市場調査とターゲットの明確化\n",
      "- **市場分析**: 競合や市場トレンドを調査し、どのニーズが未充足かを見極めます。\n",
      "- **ターゲットオーディエンス**: 新製品のターゲット層を定義し、年齢、性別、ライフスタイルなどでセグメント化します。\n",
      "\n",
      "### 2. 製品の価値提案を明確にする\n",
      "- **ユニークなセリングポイント (USP)**: 商品の特長、および競合との差別化ポイントを明確にし、それを基に価値提案を作成します。\n",
      "- **顧客へのメリット**: 顧客がその製品を選ぶ理由を考え、明確にコミュニケーションします。\n",
      "\n",
      "### 3. マーケティングチャネルの選定\n",
      "- **オンラインマーケティング**: ソーシャルメディア、SEO、コンテンツマーケティング、メールマーケティングを活用。ターゲットオーディエンスが最も利用するチャネルを中心に展開します。\n",
      "- **オフラインマーケティング**: イベント、店頭プロモーション、印刷メディアなども併用して、ブランドの認知度を高めます。\n",
      "\n",
      "### 4. プレローンチプロモーション\n",
      "- **ティーザーキャンペーン**: 発売前に製品の情報を小出しにし、期待感を高めます。SNSでのカウントダウンやプレゼントキャンペーンも効果的です。\n",
      "- **インフルエンサーとのパートナーシップ**: 業界のインフルエンサーやブロガーと提携し、事前の試用やレビューを依頼します。\n",
      "\n",
      "### 5. ローンチイベント\n",
      "- **発売イベントの企画**: オンラインまたはオフラインでの特別イベントを開催し、新製品を発表します。デモンストレーションやワークショップを行うと良いでしょう。\n",
      "- **メディアリリース**: プレスリリースを配信し、メディアに取り上げてもらうことで広範囲に情報を拡散します。\n",
      "\n",
      "### 6. フィードバックの収集と改善\n",
      "- **顧客の声を聞く**: 発売後は顧客のフィードバックを収集し、製品やマーケティング戦略の改善に役立てます。\n",
      "- **ユーザー生成コンテンツ**: 顧客のレビューや体験談を積極的に活用し、さらなる信頼を獲得します。\n",
      "\n",
      "### 7. 継続的なマーケティング\n",
      "- **リピート需要の喚起**: 定期的なプロモーションや新しいアプローチを通じて、顧客のリピート購入を促進します。\n",
      "- **コミュニティの形成**: ブランドのファンが集うコミュニティを育て、エンゲージメントを高めます。\n",
      "\n",
      "これらのステップを漏れなく実施することで、新製品の発売を成功に導くことができるでしょう。また、実際の市場や顧客の反応に応じて柔軟に戦略を調整することも重要です。\n"
     ]
    }
   ],
   "source": [
    "# 役割や前提の設定\n",
    "role = \"あなたはマーケティング分野に精通したビジネスコンサルタントです。企業の成長をサポートするために、効果的なマーケティング戦略を提供します。\"\n",
    "\n",
    "# メッセージの設定\n",
    "message = \"新製品の発売に向けた効果的なマーケティング戦略を教えてください。\"\n",
    "\n",
    "# APIへリクエスト\n",
    "response = client.chat.completions.create(\n",
    "    model=MODEL_NAME,\n",
    "    messages=[\n",
    "        {\"role\": \"system\", \"content\": role},\n",
    "        {\"role\": \"user\", \"content\": message},\n",
    "    ],\n",
    ")\n",
    "\n",
    "# 言語モデルからの回答を表示\n",
    "print(response.choices[0].message.content.strip())"
   ]
  },
  {
   "cell_type": "code",
   "execution_count": 5,
   "id": "4771ea5a",
   "metadata": {},
   "outputs": [
    {
     "name": "stdout",
     "output_type": "stream",
     "text": [
      "--------------------\n",
      "もちろん、日本の魅力は多岐にわたります。以下にいくつかの観点で日本の魅力を紹介します。\n",
      "\n",
      "### 1. 文化と歴史\n",
      "- **伝統文化**: 式典や祭り、茶道、花道、武道などが今も受け継がれています。特に京都や奈良では、古い寺院や神社がたくさん残っています。\n",
      "- **\n",
      "--------------------\n",
      "もちろんです！日本には独特で多様な文化や魅力があります。以下にいくつかのポイントを紹介します。\n",
      "\n",
      "### 1. 自然美\n",
      "- **四季の移り変わり**：日本は四季がはっきりしており、春の桜、夏の海、秋の紅葉、冬の雪景色等、各季節ごとに美しい風景が楽しめます。\n",
      "- **\n",
      "--------------------\n",
      "日本の魅力は多岐にわたります。以下にいくつかのポイントを挙げてみましょう。\n",
      "\n",
      "1. **豊かな歴史と文化**: 日本には数千年の歴史があり、その影響を受けた美しい寺社、城、お祭りがあります。特に京都はその象徴的な町であり、古い寺院や伝統的な町並みが残っています。\n",
      "\n",
      "2.\n"
     ]
    }
   ],
   "source": [
    "# 出力の多様性\n",
    "message = \"日本の魅力を紹介して！\"\n",
    "\n",
    "# APIへリクエスト\n",
    "response = client.chat.completions.create(\n",
    "    model=MODEL_NAME,\n",
    "    messages=[\n",
    "        {\"role\": \"user\", \"content\": message},\n",
    "    ],\n",
    "    temperature=1.4,\n",
    "    n = 3, # 3回答を得る\n",
    "    max_completion_tokens = 100 # 出力トークン長を制限\n",
    ")\n",
    "\n",
    "# 結果を表示（複数回答を比較）\n",
    "for choice in response.choices:\n",
    "    print(\"-\" * 20)\n",
    "    print(choice.message.content.strip())"
   ]
  },
  {
   "cell_type": "code",
   "execution_count": 6,
   "id": "bfd77455",
   "metadata": {},
   "outputs": [
    {
     "name": "stdout",
     "output_type": "stream",
     "text": [
      "--------------------\n",
      "もちろんです！日本は多様な魅力が詰まった国です。以下にいくつかのポイントを紹介します。\n",
      "\n",
      "### 1. 文化と伝統\n",
      "日本の伝統文化は非常に豊かで魅力的です。茶道、華道、伝統的な武道（剣道、柔道など）など、多くの日本の文化が長い歴史を持っています。また、着物などの伝統\n",
      "--------------------\n",
      "もちろんです！日本には多くの魅力があり、文化、自然、食、歴史など、さまざまな面で魅力を持っています。以下にいくつかのポイントを紹介します。\n",
      "\n",
      "### 1. 文化と伝統\n",
      "日本は、古い伝統と新しい文化が共存する国です。茶道、書道、着物などの伝統文化があり、祭りや伝統行事も\n",
      "--------------------\n",
      "もちろんです！日本は多様な魅力を持つ国です。以下にいくつかのポイントを紹介します。\n",
      "\n",
      "### 1. 文化と歴史\n",
      "日本は古代から続く豊かな歴史を持つ国です。神社や寺院、城郭などの歴史的な建造物は、歴史を感じさせる名所です。また、浮世絵や茶道、華道、武道など\n"
     ]
    }
   ],
   "source": [
    "# 出力の多様性\n",
    "message = \"日本の魅力を紹介して！\"\n",
    "\n",
    "# APIへリクエスト\n",
    "response = client.chat.completions.create(\n",
    "    model=MODEL_NAME,\n",
    "    messages=[\n",
    "        {\"role\": \"user\", \"content\": message},\n",
    "    ],\n",
    "    presence_penalty=-2.0,\n",
    "    n = 3, # 3回答を得る\n",
    "    max_completion_tokens = 100 # 出力トークン長を制限\n",
    ")\n",
    "\n",
    "# 結果を表示（複数回答を比較）\n",
    "for choice in response.choices:\n",
    "    print(\"-\" * 20)\n",
    "    print(choice.message.content.strip())"
   ]
  },
  {
   "cell_type": "code",
   "execution_count": 7,
   "id": "77a53b2e",
   "metadata": {},
   "outputs": [
    {
     "name": "stdout",
     "output_type": "stream",
     "text": [
      "tokens_count=2\n",
      "tokens=[95839, 3393]\n"
     ]
    }
   ],
   "source": [
    "import tiktoken\n",
    "from tiktoken.core import Encoding\n",
    "\n",
    "# OpenAI APIの特定のモデルに対応するトークナイザーを取得\n",
    "encoding: Encoding = tiktoken.encoding_for_model(MODEL_NAME) # o200k_base\n",
    "\n",
    "# テキストをトークンIDのリストに変換\n",
    "tokens = encoding.encode(\"こんにちは！\")\n",
    "tokens_count = len(tokens)\n",
    "\n",
    "# トークンの長さとトークンIDを表示\n",
    "print(f\"{tokens_count=}\")\n",
    "print(f\"{tokens=}\")"
   ]
  },
  {
   "cell_type": "code",
   "execution_count": 8,
   "id": "e81f54c2",
   "metadata": {},
   "outputs": [
    {
     "name": "stdout",
     "output_type": "stream",
     "text": [
      "--------------------\n",
      "B:こんにちは！Aさん、今日はどうしたの？\n",
      "--------------------\n",
      "B:こんにちは、Aさん！最近どうしてる？\n",
      "--------------------\n",
      "B:こんにちは！Aさん、お久しぶりですね！最近どうですか？\n"
     ]
    }
   ],
   "source": [
    "# トークンの選択度合い\n",
    "message = \"\"\"\n",
    "AさんとBさんで会話してください。\n",
    "A:あ、Bさんだ。\n",
    "B:\n",
    "\"\"\"\n",
    "\n",
    "# APIへリクエスト\n",
    "response = client.chat.completions.create(\n",
    "    model=MODEL_NAME,\n",
    "    messages=[\n",
    "        {\"role\": \"user\", \"content\": message},\n",
    "    ],\n",
    "    max_tokens=100,\n",
    "    n=3,\n",
    "    logit_bias = {95839:8, 3393:8}\n",
    ")\n",
    "\n",
    "# 結果を表示\n",
    "for choice in response.choices:\n",
    "    print(\"-\" * 20)\n",
    "    print(choice.message.content.strip())"
   ]
  },
  {
   "cell_type": "code",
   "execution_count": 9,
   "id": "f98ef74b",
   "metadata": {},
   "outputs": [
    {
     "name": "stdout",
     "output_type": "stream",
     "text": [
      "言語モデルを使う上でのポイントはいくつかあります。以下にいくつかの重要な点を挙げます。\n",
      "\n",
      "1. **目的の明確化**: 何を達成したいのかを明確にすることが重要です。質問応答、テキスト生成、翻訳など、具体的な目的によって適切なモデルや設定が異なります。\n",
      "\n",
      "2. **プロンプト設計**: 効果的なプロンプト（入力文）を設計することで、モデルからの応答の質が大きく変わります。具体的かつ明確な質問をすることで、より良い結果を得やすくなります。\n",
      "\n",
      "3. **過信しない**: 言語モデルは非常に優れていますが、誤った情報を生成することもあります。そのため、提示された情報は必ずしも正確でないことを念頭に置き、重要な決定には他の情報源を活用することが重要です。\n",
      "\n",
      "4. **コンテキストの提供**: モデルがより適切な応答を生成するためには、十分な文脈情報を提供することが大切です。関連する背景情報や条件を含めることで、より精度の高い結果が得られます。\n",
      "\n",
      "5. **倫理的配慮**: モデルを使用する際には、生成されるコンテンツが倫理的に適切であるかどうかを考慮する必要があります。特に、害を及ぼす可能性のある内容や偏見を助長する内容には注意が必要です。\n",
      "\n",
      "6. **フィードバックの活用**: モデルの出力に対してフィードバックを行うことで、次回のプロンプトや使用方法を改善することができます。結果を評価し、必要に応じて入力を調整することが大切です。\n",
      "\n",
      "7. **利用制限を理解する**: モデルには限界があるため、特定のタスクやドメインにおいては適用できない場合があります。これらの限界を理解し、使い方を工夫することが必要です。\n",
      "\n",
      "これらのポイントを意識することで、言語モデルをより効果的に活用できるでしょう。"
     ]
    }
   ],
   "source": [
    "# メッセージの設定\n",
    "message = \"言語モデルを使う上でのポイントは\"\n",
    "\n",
    "# APIへリクエスト\n",
    "stream = client.chat.completions.create(\n",
    "    model=MODEL_NAME,\n",
    "    messages=[\n",
    "        {\"role\": \"user\", \"content\": message},\n",
    "    ],\n",
    "    stream=True,\n",
    ")\n",
    "\n",
    "for chunk in stream:\n",
    "    if chunk.choices:\n",
    "        if chunk.choices[0].delta.content is not None:\n",
    "            print(chunk.choices[0].delta.content, end=\"\")"
   ]
  },
  {
   "cell_type": "code",
   "execution_count": 10,
   "id": "b47ad258",
   "metadata": {},
   "outputs": [],
   "source": [
    "stream = client.chat.completions.create(\n",
    "    model=MODEL_NAME,\n",
    "    messages=[\n",
    "        {\"role\": \"user\", \"content\": message},\n",
    "    ],\n",
    "    stream=True,\n",
    ")"
   ]
  },
  {
   "cell_type": "code",
   "execution_count": 11,
   "id": "3c825a56",
   "metadata": {},
   "outputs": [
    {
     "name": "stdout",
     "output_type": "stream",
     "text": [
      "言語モデルを効果的に使用するためのポイントはいくつかあります。以下に主要な点を挙げます。\n",
      "\n",
      "1. **明確な目的を設定する**:\n",
      "   - 何のために言語モデルを使用するのか（文章生成、質問応答、翻訳など）を明確にします。\n",
      "\n",
      "2. **具体的な指示を与える**:\n",
      "   - モデルに対するプロンプトや質問は具体的であるほど、期待する結果が得られやすくなります。\n",
      "\n",
      "3. **文脈を提供する**:\n",
      "   - モデルは文脈を理解する能力があるため、必要な情報や背景を提供することで、より適切な応答が得られます。\n",
      "\n",
      "4. **出力のチェックとフィルタリング**:\n",
      "   - モデルからの出力には誤りや不適切な情報が含まれる可能性があるため、結果を確認し、必要に応じて修正することが重要です。\n",
      "\n",
      "5. **トレーニングデータの理解**:\n",
      "   - 言語モデルはトレーニングされたデータに基づいて応答を生成するため、その限界やバイアスを理解しておくことが重要です。\n",
      "\n",
      "6. **対話形式で活用する**:\n",
      "   - モデルとのインタラクションを通じて、追質問をすることでより深い情報を得ることができます。\n",
      "\n",
      "7. **倫理的な配慮**:\n",
      "   - 出力結果によっては誤解を招くことや、不適切な内容が含まれる場合があるため、倫理的な観点からも利用を考慮することが必要です。\n",
      "\n",
      "8. **技術的な制約を把握する**:\n",
      "   - モデルの能力や限界を理解し、実際のニーズに対して適切なモデルを選定することが重要です。\n",
      "\n",
      "これらのポイントを考慮しながら言語モデルを利用することで、より効果的に活用できるでしょう。"
     ]
    }
   ],
   "source": [
    "for chunk in stream:\n",
    "    if chunk.choices:\n",
    "        if chunk.choices[0].delta.content is not None:\n",
    "            print(chunk.choices[0].delta.content, end=\"\")"
   ]
  }
 ],
 "metadata": {
  "kernelspec": {
   "display_name": ".venv",
   "language": "python",
   "name": "python3"
  },
  "language_info": {
   "codemirror_mode": {
    "name": "ipython",
    "version": 3
   },
   "file_extension": ".py",
   "mimetype": "text/x-python",
   "name": "python",
   "nbconvert_exporter": "python",
   "pygments_lexer": "ipython3",
   "version": "3.12.11"
  }
 },
 "nbformat": 4,
 "nbformat_minor": 5
}
