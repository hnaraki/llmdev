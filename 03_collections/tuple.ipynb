{
 "cells": [
  {
   "cell_type": "markdown",
   "id": "8328b326",
   "metadata": {},
   "source": [
    "Lesson 3\n",
    "# データ構造とファイル操作"
   ]
  },
  {
   "cell_type": "markdown",
   "id": "db65acc4",
   "metadata": {},
   "source": [
    "Chapter 5.1\n",
    "## タプルを作成する"
   ]
  },
  {
   "cell_type": "code",
   "execution_count": null,
   "id": "68302f2a",
   "metadata": {},
   "outputs": [],
   "source": [
    "# 数値を格納したタプル\n",
    "numbers = (1, 2, 3, 4, 5)\n",
    "print(numbers)  # (1, 2, 3, 4, 5)\n",
    "\n",
    "# 文字列を格納したタプル\n",
    "fruits = (\"apple\", \"banana\", \"cherry\")\n",
    "print(fruits)  # ('apple', 'banana', 'cherry')\n",
    "\n",
    "# 異なるデータ型を混在させたタプル\n",
    "mixed = (1, \"apple\", 3.14, True)\n",
    "print(mixed)  # (1, 'apple', 3.14, True)\n",
    "\n",
    "# 空のタプル\n",
    "empty_tuple = ()\n",
    "print(empty_tuple)  # ()\n",
    "\n",
    "# 要素が1つだけのタプル\n",
    "one_element_tuple = (1,)\n",
    "print(one_element_tuple)  # ()"
   ]
  }
 ],
 "metadata": {
  "kernelspec": {
   "display_name": ".venv",
   "language": "python",
   "name": "python3"
  },
  "language_info": {
   "name": "python",
   "version": "3.12.11"
  }
 },
 "nbformat": 4,
 "nbformat_minor": 5
}
