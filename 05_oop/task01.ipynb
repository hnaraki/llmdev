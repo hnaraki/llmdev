{
 "cells": [
  {
   "cell_type": "markdown",
   "id": "c59b644b",
   "metadata": {},
   "source": [
    "# 課題: 銀行口座の管理"
   ]
  },
  {
   "cell_type": "markdown",
   "id": "a1d1d0e0",
   "metadata": {},
   "source": [
    "## 仕様\n",
    "### クラスの仕様：\n",
    "\n",
    "BankAccount クラスを作成し、残高を管理するための属性を定義してください。\n",
    "\n",
    "- 残高（balance）属性を定義し、初期残高を指定してインスタンス化できるようにします。残高属性は外部から直接アクセスできないようにしてください。\n",
    "- 以下のメソッドを定義してください。\n",
    "    - deposit(amount): 預け入れメソッド。指定された金額を残高に追加します。預け入れる金額が0より小さい場合は エラー: 正しい金額を入力してください と表示して処理を終了します。\n",
    "    - withdraw(amount): 引き出しメソッド。指定された金額を残高から引き出します。引き出し可能な場合のみ残高を減らし、残高不足や0以下の金額を指定した場合は エラー: 残高不足または無効な金額です と表示して処理を終了します。\n",
    "- get_balance(): 現在の残高を返します。\n",
    "### 呼び出し側の仕様：\n",
    "\n",
    "以下の操作を順に行ってください。\n",
    "\n",
    "- 初期残高1000円で BankAccount クラスのインスタンスを作成\n",
    "- 500円を預け入れ\n",
    "- 200円を引き出し\n",
    "- 現在の残高を表示（1300 と表示される）\n",
    "- 1500円を引き出そうとする（エラー: 残高不足または無効な金額です。）"
   ]
  },
  {
   "cell_type": "code",
   "execution_count": 1,
   "id": "6a4540ee",
   "metadata": {},
   "outputs": [
    {
     "name": "stdout",
     "output_type": "stream",
     "text": [
      "1300\n",
      "エラー: 残高不足または無効な金額です\n"
     ]
    }
   ],
   "source": [
    "class BankAccount:\n",
    "    def __init__(self, initial_balance=0):\n",
    "        self._balance = initial_balance\n",
    "\n",
    "    def deposit(self, amount):\n",
    "        if amount <= 0:\n",
    "            print(\"エラー: 正しい金額を入力してください\")\n",
    "            return\n",
    "        self._balance += amount\n",
    "\n",
    "    def withdraw(self, amount):\n",
    "        if amount <= 0 or amount > self._balance:\n",
    "            print(\"エラー: 残高不足または無効な金額です\")\n",
    "            return\n",
    "        self._balance -= amount\n",
    "\n",
    "    def get_balance(self):\n",
    "        return self._balance\n",
    "\n",
    "account = BankAccount(1000)   # 初期残高1000円\n",
    "account.deposit(500)          # 500円を預け入れ\n",
    "account.withdraw(200)         # 200円を引き出し\n",
    "print(account.get_balance())  # 現在の残高を表示（1300 と表示される）\n",
    "account.withdraw(1500)        # 1500円を引き出そうとする（エラー: 残高不足または無効な金額です"
   ]
  }
 ],
 "metadata": {
  "kernelspec": {
   "display_name": ".venv",
   "language": "python",
   "name": "python3"
  },
  "language_info": {
   "codemirror_mode": {
    "name": "ipython",
    "version": 3
   },
   "file_extension": ".py",
   "mimetype": "text/x-python",
   "name": "python",
   "nbconvert_exporter": "python",
   "pygments_lexer": "ipython3",
   "version": "3.12.11"
  }
 },
 "nbformat": 4,
 "nbformat_minor": 5
}
