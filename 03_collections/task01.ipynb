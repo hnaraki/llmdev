{
 "cells": [
  {
   "cell_type": "markdown",
   "id": "12c2c905",
   "metadata": {},
   "source": [
    "# 課題：学生の成績分析ツールを作成しよう"
   ]
  },
  {
   "cell_type": "markdown",
   "id": "083c7e51",
   "metadata": {},
   "source": [
    "## 仕様\n",
    "- 学生の成績をリストとして定義します。以下のソースコードを使用してください。\n",
    "\n",
    "  ```grades = [85, 90, 78, 92, 88]```\n",
    "- 成績のリストを使用して以下を行ってください。\n",
    "  - 成績の平均点を計算します。\n",
    "  - 成績の最高点と最低点を求めます。\n",
    "  - 成績が平均以上の学生数をカウントします。\n",
    "- 結果を出力してください。"
   ]
  },
  {
   "cell_type": "code",
   "execution_count": 3,
   "id": "c4e63c6f",
   "metadata": {},
   "outputs": [
    {
     "name": "stdout",
     "output_type": "stream",
     "text": [
      "平均点: 80.0\n",
      "最高点: 90\n",
      "最低点: 70\n",
      "平均以上の学生数: 3\n"
     ]
    }
   ],
   "source": [
    "#result_list = [85, 90, 78, 92, 88]\n",
    "result_list = [70, 75, 80, 85, 90]\n",
    "\n",
    "# 平均点の計算\n",
    "average_score = sum(result_list) / len(result_list)\n",
    "\n",
    "# 最高点と最低点\n",
    "max_score = max(result_list)\n",
    "min_score = min(result_list)\n",
    "\n",
    "# 平均以上の学生数\n",
    "count_above_average = sum(1 for score in result_list if score >= average_score)\n",
    "\n",
    "# 結果出力\n",
    "print(f\"平均点: {average_score:.1f}\")\n",
    "print(f\"最高点: {max_score}\")\n",
    "print(f\"最低点: {min_score}\")\n",
    "print(f\"平均以上の学生数: {count_above_average}\")\n"
   ]
  }
 ],
 "metadata": {
  "kernelspec": {
   "display_name": ".venv",
   "language": "python",
   "name": "python3"
  },
  "language_info": {
   "codemirror_mode": {
    "name": "ipython",
    "version": 3
   },
   "file_extension": ".py",
   "mimetype": "text/x-python",
   "name": "python",
   "nbconvert_exporter": "python",
   "pygments_lexer": "ipython3",
   "version": "3.12.11"
  }
 },
 "nbformat": 4,
 "nbformat_minor": 5
}
